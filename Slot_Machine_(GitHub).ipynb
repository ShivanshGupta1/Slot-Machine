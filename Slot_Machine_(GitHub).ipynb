{
  "nbformat": 4,
  "nbformat_minor": 0,
  "metadata": {
    "colab": {
      "name": "Slot Machine (GitHub).ipynb",
      "provenance": [],
      "authorship_tag": "ABX9TyOKC7blz3cLDl2ooQImJS3c",
      "include_colab_link": true
    },
    "kernelspec": {
      "name": "python3",
      "display_name": "Python 3"
    }
  },
  "cells": [
    {
      "cell_type": "markdown",
      "metadata": {
        "id": "view-in-github",
        "colab_type": "text"
      },
      "source": [
        "<a href=\"https://colab.research.google.com/github/ShivanshGupta1/Slot-Machine/blob/main/Slot_Machine_(GitHub).ipynb\" target=\"_parent\"><img src=\"https://colab.research.google.com/assets/colab-badge.svg\" alt=\"Open In Colab\"/></a>"
      ]
    },
    {
      "cell_type": "code",
      "metadata": {
        "id": "VqF82zX_gNRD"
      },
      "source": [
        "from random import*\n",
        "def slot_machine():\n",
        "  credits = 10\n",
        "  while credits>0:\n",
        "    if roll==\"Yes\":\n",
        "      credits -= 2\n",
        "      num_1 = randint(1,5)\n",
        "      num_2 = randint(1,5)\n",
        "      num_3 = randint(1,5)\n",
        "      if num_1==1 and num_2==1 and num_3==1:\n",
        "        credits +=50\n",
        "        a = input('Wanna quit ?')\n",
        "        if a==\"Yes\":\n",
        "          break\n",
        "        else:\n",
        "          print(\"Round is done\") \n",
        "      elif num_1==num_2 and num_1==num_3:\n",
        "        if num_1==3 and num_2==3 and num_3==3:\n",
        "         credits = 0 \n",
        "         break\n",
        "        else:\n",
        "         credits +=10\n",
        "        a = input('Wanna quit ?')\n",
        "        if a==\"Yes\":\n",
        "          break\n",
        "        else:\n",
        "          print(\"Round is done\")\n",
        "      elif num_1==num_2 and num_1==num_3 or num_2==num_1 and num_2==num_3 or num_3==num_2 and num_3==num_1:\n",
        "        credits +=2\n",
        "        a = input('Wanna quit ?')\n",
        "        if a==\"Yes\":\n",
        "          break\n",
        "        else:\n",
        "          print(\"Round is done\")\n",
        "      elif num_1==2 and num_2==2 or num_1==2 and num_3==2 or num_2==2 and num_1==2 or num_2==2 and num_3==2 or num_3==2 and num_2==2 or num_3==2 and num_1==2  :\n",
        "        credits -=2\n",
        "        a = input('Wanna quit ?')\n",
        "        if a==\"Yes\":\n",
        "          break\n",
        "        else:\n",
        "          print(\"Round is done\")\n",
        "      elif num_1!=num_2 and num_1!=num_3 and num_2!=num_1 and num_2!=num_3 and num_3!=num_2 and num_3!=num_1 :\n",
        "        print(\"Oops, looks like you didn't win anything\")\n",
        "        a = input('Wanna quit ?')\n",
        "        if a==\"Yes\":\n",
        "          break\n",
        "        else:\n",
        "          print(\"Round is done\") \n",
        "  print(\"Game Summary\")\n",
        "  print('Hey looks like you did a great job after all')  \n",
        "  print('Your total credits are', credits)\n",
        "roll = input('Wanna PLAY?')\n",
        "if roll==\"Yes\":\n",
        "  slot_machine()\n",
        "      "
      ],
      "execution_count": null,
      "outputs": []
    }
  ]
}